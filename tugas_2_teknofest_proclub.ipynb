{
  "nbformat": 4,
  "nbformat_minor": 0,
  "metadata": {
    "colab": {
      "name": "tugas-2-teknofest-proclub",
      "provenance": []
    },
    "kernelspec": {
      "name": "python3",
      "display_name": "Python 3"
    },
    "language_info": {
      "name": "python"
    }
  },
  "cells": [
    {
      "cell_type": "code",
      "execution_count": 9,
      "metadata": {
        "colab": {
          "base_uri": "https://localhost:8080/"
        },
        "id": "zyI9qDr5nh62",
        "outputId": "25ecb8c3-750a-4ecf-ccc5-1d0e6414b4e4"
      },
      "outputs": [
        {
          "output_type": "stream",
          "name": "stdout",
          "text": [
            "Enter multiple value: 1 2 3 4 1 2 3\n",
            "Angka yang muncul satu kali:  [4]\n"
          ]
        }
      ],
      "source": [
        "# 1 angka muncul sekali\n",
        "def once_number(arr):\n",
        "    result = 0\n",
        "    for i in arr:\n",
        "        result ^= i\n",
        "    return result\n",
        "x = [int(x) for x in input(\"Enter multiple value: \").split()]\n",
        "print('Angka yang muncul satu kali: ', [once_number(x)])"
      ]
    },
    {
      "cell_type": "code",
      "source": [
        "# 2 indeks dari penjumlahan angka \n",
        "target = int(input('Target angka: '))\n",
        "num = list(map(int, input(\"Enter multiple value: \").split()))\n",
        "\n",
        "for i in range(len(num)):\n",
        "  for j in range(i+1, len(num)):\n",
        "    if num[i] + num[j] == target:\n",
        "      print([i,j])"
      ],
      "metadata": {
        "colab": {
          "base_uri": "https://localhost:8080/"
        },
        "id": "XmRlPgAFn2AX",
        "outputId": "09e2d32b-522d-4739-f96d-8102bfa892f8"
      },
      "execution_count": 7,
      "outputs": [
        {
          "output_type": "stream",
          "name": "stdout",
          "text": [
            "Target angka: 6\n",
            "Enter multiple value: 1 2 3 4 5 6\n",
            "[0, 4]\n",
            "[1, 3]\n"
          ]
        }
      ]
    },
    {
      "cell_type": "code",
      "source": [
        "# 3 most appear number\n",
        "x = list(input(\"Enter multiple value: \").split())\n",
        "print(\"List of input: \", x)\n",
        "def most_appear(a):\n",
        "    fr = {}\n",
        "    for i in a:\n",
        "        if i in fr: \n",
        "            fr[i] +=1\n",
        "        else: \n",
        "            fr[i] =1\n",
        "    return fr\n",
        "most_appear(x)"
      ],
      "metadata": {
        "colab": {
          "base_uri": "https://localhost:8080/"
        },
        "id": "6Vq5M-jjuNOr",
        "outputId": "eb2f771c-2d28-48ba-f605-5be61e803043"
      },
      "execution_count": 35,
      "outputs": [
        {
          "output_type": "stream",
          "name": "stdout",
          "text": [
            "Enter multiple value: js js golang ruby ruby js js\n",
            "List of input:  ['js', 'js', 'golang', 'ruby', 'ruby', 'js', 'js']\n"
          ]
        },
        {
          "output_type": "execute_result",
          "data": {
            "text/plain": [
              "{'golang': 1, 'js': 4, 'ruby': 2}"
            ]
          },
          "metadata": {},
          "execution_count": 35
        }
      ]
    }
  ]
}