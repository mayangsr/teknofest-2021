{
  "nbformat": 4,
  "nbformat_minor": 0,
  "metadata": {
    "colab": {
      "name": "Teknofest tugas 1.ipynb",
      "provenance": []
    },
    "kernelspec": {
      "name": "python3",
      "display_name": "Python 3"
    },
    "language_info": {
      "name": "python"
    }
  },
  "cells": [
    {
      "cell_type": "code",
      "metadata": {
        "colab": {
          "base_uri": "https://localhost:8080/"
        },
        "id": "yrCrHeQuE9xE",
        "outputId": "b84cacee-7647-4491-e66f-298cf73d3847"
      },
      "source": [
        "# half pyramid pattern\n",
        "n = 5\n",
        "for i in range(0,n):\n",
        "  for j in range(0, i+1):\n",
        "    print(\"*\", end=' ')\n",
        "  print()"
      ],
      "execution_count": null,
      "outputs": [
        {
          "output_type": "stream",
          "name": "stdout",
          "text": [
            "* \n",
            "* * \n",
            "* * * \n",
            "* * * * \n",
            "* * * * * \n"
          ]
        }
      ]
    },
    {
      "cell_type": "code",
      "metadata": {
        "colab": {
          "base_uri": "https://localhost:8080/"
        },
        "id": "G54w6Z9tFDBi",
        "outputId": "0a43ae9e-f413-48fd-8ea4-05e0d429623c"
      },
      "source": [
        "# half inverted pyramid pattern\n",
        "n = 5\n",
        "for i in range(0,n):\n",
        "  for j in range(0,n):\n",
        "    print(\"*\", end=' ')\n",
        "  print()\n",
        "  n -= 1"
      ],
      "execution_count": null,
      "outputs": [
        {
          "output_type": "stream",
          "name": "stdout",
          "text": [
            "* * * * * \n",
            "* * * * \n",
            "* * * \n",
            "* * \n",
            "* \n"
          ]
        }
      ]
    },
    {
      "cell_type": "code",
      "metadata": {
        "colab": {
          "base_uri": "https://localhost:8080/"
        },
        "id": "oHtEgFTOFFjM",
        "outputId": "23b8bfce-2c2d-4dcc-8af2-9b41421b3c87"
      },
      "source": [
        "# half pyramid pattern mirrorred\n",
        "n = 7\n",
        "for i in range(2,n):\n",
        "  for j in range(2,n):\n",
        "    if (j <= n-i):\n",
        "      print(' ', end=' ')\n",
        "    else:\n",
        "      print('*', end=' ')\n",
        "  print()"
      ],
      "execution_count": null,
      "outputs": [
        {
          "output_type": "stream",
          "name": "stdout",
          "text": [
            "        * \n",
            "      * * \n",
            "    * * * \n",
            "  * * * * \n",
            "* * * * * \n"
          ]
        }
      ]
    },
    {
      "cell_type": "code",
      "metadata": {
        "colab": {
          "base_uri": "https://localhost:8080/"
        },
        "id": "Sy1A6Y25FIyi",
        "outputId": "ff9d2637-358e-46e6-fc1f-f98377ab4bc2"
      },
      "source": [
        "# full pyramid pattern\n",
        "n = 5\n",
        "for i in range(n):    \n",
        "    print(\" \"*(n-i-1), end=\"\")    \n",
        "    for j in range(i+1):        \n",
        "      print(\"* \", end=\"\")    \n",
        "    print()"
      ],
      "execution_count": null,
      "outputs": [
        {
          "output_type": "stream",
          "name": "stdout",
          "text": [
            "    * \n",
            "   * * \n",
            "  * * * \n",
            " * * * * \n",
            "* * * * * \n"
          ]
        }
      ]
    },
    {
      "cell_type": "code",
      "metadata": {
        "colab": {
          "base_uri": "https://localhost:8080/"
        },
        "id": "xhmTnKX9KaZM",
        "outputId": "e6324135-6fd2-40a4-87d3-0ac60b550a52"
      },
      "source": [
        "# full pyramid pattern mirrorred\n",
        "n = 5\n",
        "for i in range(n, 0, -1):\n",
        "    for j in range(0, n - i):\n",
        "        print(end = ' ')\n",
        "    for k in range(0, i):\n",
        "        print('*', end = ' ')\n",
        "    print()"
      ],
      "execution_count": null,
      "outputs": [
        {
          "output_type": "stream",
          "name": "stdout",
          "text": [
            "* * * * * \n",
            " * * * * \n",
            "  * * * \n",
            "   * * \n",
            "    * \n"
          ]
        }
      ]
    }
  ]
}